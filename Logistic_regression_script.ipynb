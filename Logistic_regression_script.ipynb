{
 "cells": [
  {
   "cell_type": "code",
   "execution_count": 1,
   "metadata": {},
   "outputs": [],
   "source": [
    "#import the data\n",
    "\n",
    "from __future__ import print_function\n",
    "import numpy as np\n",
    "import mxnet as mx\n",
    "import csv\n",
    "import pandas as pd\n",
    "from mxnet import nd, autograd, gluon\n",
    "mx.random.seed(1)\n",
    "\n",
    "from numpy import genfromtxt\n",
    "\n",
    "train_data = genfromtxt('D:\\\\NEU Courses\\\\Predictive Anaytics\\\\Week2\\MNIST-data\\\\mnist_train.csv', delimiter=',')\n",
    "test_data= genfromtxt('D:\\\\NEU Courses\\\\Predictive Anaytics\\\\Week2\\MNIST-data\\\\mnist_test.csv', delimiter=',')\n",
    "\n",
    "#print(train_data)\n"
   ]
  },
  {
   "cell_type": "code",
   "execution_count": 2,
   "metadata": {},
   "outputs": [
    {
     "name": "stdout",
     "output_type": "stream",
     "text": [
      "(60001, 785)\n",
      "(10000, 785)\n"
     ]
    }
   ],
   "source": [
    "print(train_data.shape)\n",
    "print(test_data.shape)"
   ]
  },
  {
   "cell_type": "code",
   "execution_count": 3,
   "metadata": {},
   "outputs": [],
   "source": [
    "data_cont = mx.cpu()\n",
    "model_cont = mx.cpu()"
   ]
  },
  {
   "cell_type": "code",
   "execution_count": 4,
   "metadata": {},
   "outputs": [],
   "source": [
    "#divide data into dependent and independent variables\n",
    "\n",
    "train_pixel=[]\n",
    "train_label=[]\n",
    "test_pixel=[]\n",
    "test_label=[]\n",
    "j=0\n",
    "for i in range(1,len(train_data)):\n",
    "    train_pixel.append(train_data[i][1:])\n",
    "    train_label.append(train_data[i][j])\n",
    "\n",
    "for i in range(len(test_data)):\n",
    "    test_pixel.append(test_data[i][1:])\n",
    "    test_label.append(test_data[i][j])\n",
    "    \n",
    "train_pixel=np.array(train_pixel)\n",
    "train_label=np.array(train_label)\n",
    "test_pixel=np.array(test_pixel)\n",
    "test_label=np.array(test_label)"
   ]
  },
  {
   "cell_type": "code",
   "execution_count": 5,
   "metadata": {},
   "outputs": [
    {
     "data": {
      "text/plain": [
       "numpy.float64"
      ]
     },
     "execution_count": 5,
     "metadata": {},
     "output_type": "execute_result"
    }
   ],
   "source": [
    "type(train_pixel[0][0])"
   ]
  },
  {
   "cell_type": "code",
   "execution_count": 6,
   "metadata": {},
   "outputs": [
    {
     "name": "stdout",
     "output_type": "stream",
     "text": [
      "[  0.   0.   0.   0.   0.   0.   0.   0.   0.   0.   0.   0.   0.   0.\n",
      "   0.   0.   0.   0.   0.   0.   0.   0.   0.   0.   0.   0.   0.   0.\n",
      "   0.   0.   0.   0.   0.   0.   0.   0.   0.   0.   0.   0.   0.   0.\n",
      "   0.   0.   0.   0.   0.   0.   0.   0.   0.   0.   0.   0.   0.   0.\n",
      "   0.   0.   0.   0.   0.   0.   0.   0.   0.   0.   0.   0.   0.   0.\n",
      "   0.   0.   0.   0.   0.   0.   0.   0.   0.   0.   0.   0.   0.   0.\n",
      "   0.   0.   0.   0.   0.   0.   0.   0.   0.   0.   0.   0.   0.   0.\n",
      "   0.   0.   0.   0.   0.   0.   0.   0.   0.   0.   0.   0.   0.   0.\n",
      "   0.   0.   0.   0.   0.   0.   0.   0.   0.   0.   0.   0.   0.   0.\n",
      "   0.   0.   0.   0.   0.   0.   0.   0.   0.   0.   0.   0.   0.   0.\n",
      "   0.   0.   0.   0.   0.   0.   0.   0.   0.   0.   0.   0.   3.  18.\n",
      "  18.  18. 126. 136. 175.  26. 166. 255. 247. 127.   0.   0.   0.   0.\n",
      "   0.   0.   0.   0.   0.   0.   0.   0.  30.  36.  94. 154. 170. 253.\n",
      " 253. 253. 253. 253. 225. 172. 253. 242. 195.  64.   0.   0.   0.   0.\n",
      "   0.   0.   0.   0.   0.   0.   0.  49. 238. 253. 253. 253. 253. 253.\n",
      " 253. 253. 253. 251.  93.  82.  82.  56.  39.   0.   0.   0.   0.   0.\n",
      "   0.   0.   0.   0.   0.   0.   0.  18. 219. 253. 253. 253. 253. 253.\n",
      " 198. 182. 247. 241.   0.   0.   0.   0.   0.   0.   0.   0.   0.   0.\n",
      "   0.   0.   0.   0.   0.   0.   0.   0.  80. 156. 107. 253. 253. 205.\n",
      "  11.   0.  43. 154.   0.   0.   0.   0.   0.   0.   0.   0.   0.   0.\n",
      "   0.   0.   0.   0.   0.   0.   0.   0.   0.  14.   1. 154. 253.  90.\n",
      "   0.   0.   0.   0.   0.   0.   0.   0.   0.   0.   0.   0.   0.   0.\n",
      "   0.   0.   0.   0.   0.   0.   0.   0.   0.   0.   0. 139. 253. 190.\n",
      "   2.   0.   0.   0.   0.   0.   0.   0.   0.   0.   0.   0.   0.   0.\n",
      "   0.   0.   0.   0.   0.   0.   0.   0.   0.   0.   0.  11. 190. 253.\n",
      "  70.   0.   0.   0.   0.   0.   0.   0.   0.   0.   0.   0.   0.   0.\n",
      "   0.   0.   0.   0.   0.   0.   0.   0.   0.   0.   0.   0.  35. 241.\n",
      " 225. 160. 108.   1.   0.   0.   0.   0.   0.   0.   0.   0.   0.   0.\n",
      "   0.   0.   0.   0.   0.   0.   0.   0.   0.   0.   0.   0.   0.  81.\n",
      " 240. 253. 253. 119.  25.   0.   0.   0.   0.   0.   0.   0.   0.   0.\n",
      "   0.   0.   0.   0.   0.   0.   0.   0.   0.   0.   0.   0.   0.   0.\n",
      "  45. 186. 253. 253. 150.  27.   0.   0.   0.   0.   0.   0.   0.   0.\n",
      "   0.   0.   0.   0.   0.   0.   0.   0.   0.   0.   0.   0.   0.   0.\n",
      "   0.  16.  93. 252. 253. 187.   0.   0.   0.   0.   0.   0.   0.   0.\n",
      "   0.   0.   0.   0.   0.   0.   0.   0.   0.   0.   0.   0.   0.   0.\n",
      "   0.   0.   0. 249. 253. 249.  64.   0.   0.   0.   0.   0.   0.   0.\n",
      "   0.   0.   0.   0.   0.   0.   0.   0.   0.   0.   0.   0.   0.   0.\n",
      "  46. 130. 183. 253. 253. 207.   2.   0.   0.   0.   0.   0.   0.   0.\n",
      "   0.   0.   0.   0.   0.   0.   0.   0.   0.   0.   0.   0.  39. 148.\n",
      " 229. 253. 253. 253. 250. 182.   0.   0.   0.   0.   0.   0.   0.   0.\n",
      "   0.   0.   0.   0.   0.   0.   0.   0.   0.   0.  24. 114. 221. 253.\n",
      " 253. 253. 253. 201.  78.   0.   0.   0.   0.   0.   0.   0.   0.   0.\n",
      "   0.   0.   0.   0.   0.   0.   0.   0.  23.  66. 213. 253. 253. 253.\n",
      " 253. 198.  81.   2.   0.   0.   0.   0.   0.   0.   0.   0.   0.   0.\n",
      "   0.   0.   0.   0.   0.   0.  18. 171. 219. 253. 253. 253. 253. 195.\n",
      "  80.   9.   0.   0.   0.   0.   0.   0.   0.   0.   0.   0.   0.   0.\n",
      "   0.   0.   0.   0.  55. 172. 226. 253. 253. 253. 253. 244. 133.  11.\n",
      "   0.   0.   0.   0.   0.   0.   0.   0.   0.   0.   0.   0.   0.   0.\n",
      "   0.   0.   0.   0. 136. 253. 253. 253. 212. 135. 132.  16.   0.   0.\n",
      "   0.   0.   0.   0.   0.   0.   0.   0.   0.   0.   0.   0.   0.   0.\n",
      "   0.   0.   0.   0.   0.   0.   0.   0.   0.   0.   0.   0.   0.   0.\n",
      "   0.   0.   0.   0.   0.   0.   0.   0.   0.   0.   0.   0.   0.   0.\n",
      "   0.   0.   0.   0.   0.   0.   0.   0.   0.   0.   0.   0.   0.   0.\n",
      "   0.   0.   0.   0.   0.   0.   0.   0.   0.   0.   0.   0.   0.   0.\n",
      "   0.   0.   0.   0.   0.   0.   0.   0.   0.   0.   0.   0.   0.   0.\n",
      "   0.   0.   0.   0.   0.   0.   0.   0.   0.   0.   0.   0.   0.   0.]\n",
      "5.0\n",
      "[  0.   0.   0.   0.   0.   0.   0.   0.   0.   0.   0.   0.   0.   0.\n",
      "   0.   0.   0.   0.   0.   0.   0.   0.   0.   0.   0.   0.   0.   0.\n",
      "   0.   0.   0.   0.   0.   0.   0.   0.   0.   0.   0.   0.   0.   0.\n",
      "   0.   0.   0.   0.   0.   0.   0.   0.   0.   0.   0.   0.   0.   0.\n",
      "   0.   0.   0.   0.   0.   0.   0.   0.   0.   0.   0.   0.   0.   0.\n",
      "   0.   0.   0.   0.   0.   0.   0.   0.   0.   0.   0.   0.   0.   0.\n",
      "   0.   0.   0.   0.   0.   0.   0.   0.   0.   0.   0.   0.   0.   0.\n",
      "   0.   0.   0.   0.   0.   0.   0.   0.   0.   0.   0.   0.   0.   0.\n",
      "   0.   0.   0.   0.   0.   0.   0.   0.   0.   0.   0.   0.   0.   0.\n",
      "   0.   0.   0.   0.   0.   0.   0.   0.   0.   0.   0.   0.   0.   0.\n",
      "   0.   0.   0.   0.   0.   0.   0.   0.   0.   0.   0.   0.   0.   0.\n",
      "   0.   0.   0.   0.   0.   0.   0.   0.   0.   0.   0.   0.   0.   0.\n",
      "   0.   0.   0.   0.   0.   0.   0.   0.   0.   0.   0.   0.   0.   0.\n",
      "   0.   0.   0.   0.   0.   0.   0.   0.   0.   0.   0.   0.   0.   0.\n",
      "   0.   0.   0.   0.   0.   0.  84. 185. 159. 151.  60.  36.   0.   0.\n",
      "   0.   0.   0.   0.   0.   0.   0.   0.   0.   0.   0.   0.   0.   0.\n",
      "   0.   0.   0.   0.   0.   0. 222. 254. 254. 254. 254. 241. 198. 198.\n",
      " 198. 198. 198. 198. 198. 198. 170.  52.   0.   0.   0.   0.   0.   0.\n",
      "   0.   0.   0.   0.   0.   0.  67. 114.  72. 114. 163. 227. 254. 225.\n",
      " 254. 254. 254. 250. 229. 254. 254. 140.   0.   0.   0.   0.   0.   0.\n",
      "   0.   0.   0.   0.   0.   0.   0.   0.   0.   0.   0.  17.  66.  14.\n",
      "  67.  67.  67.  59.  21. 236. 254. 106.   0.   0.   0.   0.   0.   0.\n",
      "   0.   0.   0.   0.   0.   0.   0.   0.   0.   0.   0.   0.   0.   0.\n",
      "   0.   0.   0.   0.  83. 253. 209.  18.   0.   0.   0.   0.   0.   0.\n",
      "   0.   0.   0.   0.   0.   0.   0.   0.   0.   0.   0.   0.   0.   0.\n",
      "   0.   0.   0.  22. 233. 255.  83.   0.   0.   0.   0.   0.   0.   0.\n",
      "   0.   0.   0.   0.   0.   0.   0.   0.   0.   0.   0.   0.   0.   0.\n",
      "   0.   0.   0. 129. 254. 238.  44.   0.   0.   0.   0.   0.   0.   0.\n",
      "   0.   0.   0.   0.   0.   0.   0.   0.   0.   0.   0.   0.   0.   0.\n",
      "   0.   0.  59. 249. 254.  62.   0.   0.   0.   0.   0.   0.   0.   0.\n",
      "   0.   0.   0.   0.   0.   0.   0.   0.   0.   0.   0.   0.   0.   0.\n",
      "   0.   0. 133. 254. 187.   5.   0.   0.   0.   0.   0.   0.   0.   0.\n",
      "   0.   0.   0.   0.   0.   0.   0.   0.   0.   0.   0.   0.   0.   0.\n",
      "   0.   9. 205. 248.  58.   0.   0.   0.   0.   0.   0.   0.   0.   0.\n",
      "   0.   0.   0.   0.   0.   0.   0.   0.   0.   0.   0.   0.   0.   0.\n",
      "   0. 126. 254. 182.   0.   0.   0.   0.   0.   0.   0.   0.   0.   0.\n",
      "   0.   0.   0.   0.   0.   0.   0.   0.   0.   0.   0.   0.   0.   0.\n",
      "  75. 251. 240.  57.   0.   0.   0.   0.   0.   0.   0.   0.   0.   0.\n",
      "   0.   0.   0.   0.   0.   0.   0.   0.   0.   0.   0.   0.   0.  19.\n",
      " 221. 254. 166.   0.   0.   0.   0.   0.   0.   0.   0.   0.   0.   0.\n",
      "   0.   0.   0.   0.   0.   0.   0.   0.   0.   0.   0.   0.   3. 203.\n",
      " 254. 219.  35.   0.   0.   0.   0.   0.   0.   0.   0.   0.   0.   0.\n",
      "   0.   0.   0.   0.   0.   0.   0.   0.   0.   0.   0.   0.  38. 254.\n",
      " 254.  77.   0.   0.   0.   0.   0.   0.   0.   0.   0.   0.   0.   0.\n",
      "   0.   0.   0.   0.   0.   0.   0.   0.   0.   0.   0.  31. 224. 254.\n",
      " 115.   1.   0.   0.   0.   0.   0.   0.   0.   0.   0.   0.   0.   0.\n",
      "   0.   0.   0.   0.   0.   0.   0.   0.   0.   0.   0. 133. 254. 254.\n",
      "  52.   0.   0.   0.   0.   0.   0.   0.   0.   0.   0.   0.   0.   0.\n",
      "   0.   0.   0.   0.   0.   0.   0.   0.   0.   0.  61. 242. 254. 254.\n",
      "  52.   0.   0.   0.   0.   0.   0.   0.   0.   0.   0.   0.   0.   0.\n",
      "   0.   0.   0.   0.   0.   0.   0.   0.   0.   0. 121. 254. 254. 219.\n",
      "  40.   0.   0.   0.   0.   0.   0.   0.   0.   0.   0.   0.   0.   0.\n",
      "   0.   0.   0.   0.   0.   0.   0.   0.   0.   0. 121. 254. 207.  18.\n",
      "   0.   0.   0.   0.   0.   0.   0.   0.   0.   0.   0.   0.   0.   0.\n",
      "   0.   0.   0.   0.   0.   0.   0.   0.   0.   0.   0.   0.   0.   0.\n",
      "   0.   0.   0.   0.   0.   0.   0.   0.   0.   0.   0.   0.   0.   0.]\n",
      "7.0\n"
     ]
    }
   ],
   "source": [
    "print(train_pixel[0])\n",
    "print(train_label[0])\n",
    "print(test_pixel[0])\n",
    "print(test_label[0])\n"
   ]
  },
  {
   "cell_type": "code",
   "execution_count": 7,
   "metadata": {},
   "outputs": [
    {
     "data": {
      "text/plain": [
       "array([[0., 0., 0., ..., 0., 0., 0.],\n",
       "       [0., 0., 0., ..., 0., 0., 0.],\n",
       "       [0., 0., 0., ..., 0., 0., 0.],\n",
       "       ...,\n",
       "       [0., 0., 0., ..., 0., 0., 0.],\n",
       "       [0., 0., 0., ..., 0., 0., 0.],\n",
       "       [0., 0., 0., ..., 0., 0., 0.]])"
      ]
     },
     "execution_count": 7,
     "metadata": {},
     "output_type": "execute_result"
    }
   ],
   "source": [
    "#transform pixel to make it in the range of 0 and 1\n",
    "\n",
    "train_pixel=train_pixel/255\n",
    "test_pixel=test_pixel/255\n",
    "\n",
    "train_pixel"
   ]
  },
  {
   "cell_type": "code",
   "execution_count": 8,
   "metadata": {},
   "outputs": [],
   "source": [
    "#display the image for train set\n",
    "import numpy as np\n",
    "import matplotlib.pyplot as plt\n",
    "\n",
    "image=[]\n",
    "plt.figure(figsize=(20,4))\n",
    "for i in range(5):\n",
    "    index=i\n",
    "    image=(train_pixel[i])\n",
    "    label=(train_label[i])\n",
    "    plt.subplot(1, 5, index + 1)\n",
    "    plt.imshow(np.reshape(image, (28,28)), cmap=plt.cm.gray)\n",
    "    plt.title('Training: %i\\n' % label, fontsize = 20)"
   ]
  },
  {
   "cell_type": "code",
   "execution_count": 9,
   "metadata": {},
   "outputs": [
    {
     "data": {
      "image/png": "[encoded data removed]",
      "text/plain": [
       "<Figure size 1440x288 with 5 Axes>"
      ]
     },
     "metadata": {
      "needs_background": "light"
     },
     "output_type": "display_data"
    }
   ],
   "source": [
    "#display the image for test set\n",
    "import numpy as np\n",
    "import matplotlib.pyplot as plt\n",
    "\n",
    "image=[]\n",
    "plt.figure(figsize=(20,4))\n",
    "for i in range(5):\n",
    "    index=i\n",
    "    image=(test_pixel[i])\n",
    "    label=(test_label[i])\n",
    "    plt.subplot(1, 5, index + 1)\n",
    "    plt.imshow(np.reshape(image, (28,28)), cmap=plt.cm.gray)\n",
    "    plt.title('Training: %i\\n' % label, fontsize = 20)"
   ]
  },
  {
   "cell_type": "code",
   "execution_count": 10,
   "metadata": {},
   "outputs": [
    {
     "name": "stdout",
     "output_type": "stream",
     "text": [
      "(60000, 784)\n",
      "(60000,)\n",
      "(10000, 784)\n"
     ]
    }
   ],
   "source": [
    "#transform numpy array to mxnet.ndarray\n",
    "\n",
    "\n",
    "mx_train_pixel = mx.nd.array(train_pixel)\n",
    "mx_train_label = mx.nd.array(train_label)\n",
    "mx_test_pixel=mx.nd.array(test_pixel)\n",
    "mx_test_label=mx.nd.array(test_label)\n",
    "\n",
    "print((mx_train_pixel).shape)\n",
    "print((mx_train_label).shape)\n",
    "print((mx_test_pixel).shape)"
   ]
  },
  {
   "cell_type": "code",
   "execution_count": 11,
   "metadata": {},
   "outputs": [],
   "source": [
    "col_inputs = 784\n",
    "col_outputs = 10\n",
    "train_examples = 60000"
   ]
  },
  {
   "cell_type": "code",
   "execution_count": 12,
   "metadata": {},
   "outputs": [
    {
     "name": "stdout",
     "output_type": "stream",
     "text": [
      "[\n",
      "[[ 0.03629482 -0.49024424 -0.9501793  ...  1.040828   -0.45256865\n",
      "   0.3116043 ]\n",
      " [-0.8367378  -0.7883006   0.1266448  ... -0.6883264   0.84155583\n",
      "  -0.61584127]\n",
      " [ 0.01961146 -0.24421656 -0.13420728 ...  1.946873    0.45615166\n",
      "  -1.080743  ]\n",
      " ...\n",
      " [ 0.5153039   0.35474932  0.6605761  ... -0.04661686 -0.44999275\n",
      "  -1.18862   ]\n",
      " [-0.10230288  0.95049834 -0.34374905 ... -0.65199554 -0.29201967\n",
      "   0.9243909 ]\n",
      " [ 1.1091387   0.30381504 -1.02926    ... -0.83146644  0.22943655\n",
      "   1.3234767 ]]\n",
      "<NDArray 784x10 @cpu(0)>, \n",
      "[ 0.7022475  -0.84411263 -0.5558737   0.09676385 -2.3329272   2.2572143\n",
      "  0.03539884 -0.49671832  0.27115455 -1.4004679 ]\n",
      "<NDArray 10 @cpu(0)>]\n"
     ]
    }
   ],
   "source": [
    "#flatten the data to a 1D vector of size 784 (28*28) for each class (10)\n",
    "#create a 784*10 matrix, where a vector of size 784 consists of features for each class i.e. digits from 0-9\n",
    "\n",
    "W = nd.random_normal(shape=(col_inputs, col_outputs),ctx=model_cont)\n",
    "b = nd.random_normal(shape=col_outputs,ctx=model_cont)\n",
    "\n",
    "params = [W, b]\n",
    "\n",
    "print(params)\n",
    "\n",
    "#attach a gradient to the above matrix. we expect to get a gradient while training our model\n",
    "for param in params:\n",
    "    param.attach_grad()\n",
    "\n",
    "#print(param)"
   ]
  },
  {
   "cell_type": "code",
   "execution_count": 13,
   "metadata": {},
   "outputs": [
    {
     "data": {
      "text/plain": [
       "mxnet.ndarray.ndarray.NDArray"
      ]
     },
     "execution_count": 13,
     "metadata": {},
     "output_type": "execute_result"
    }
   ],
   "source": [
    "type(W)"
   ]
  },
  {
   "cell_type": "code",
   "execution_count": 14,
   "metadata": {},
   "outputs": [],
   "source": [
    "#define softmax function to get the probability for each class (digit-0 to 9)\n",
    "#softmax model can be used to assign probabilities to different objects\n",
    "\n",
    "def softmax(y_linear):\n",
    "    exp = nd.exp(y_linear-nd.max(y_linear, axis=1).reshape((-1,1)))\n",
    "    norms = nd.sum(exp, axis=1).reshape((-1,1))\n",
    "    return exp / norms\n",
    "\n",
    "\n",
    "# #try a sample\n",
    "# sample_y_linear = nd.random_normal(shape=(2,10))\n",
    "# sample_ycap = softmax(sample_y_linear)\n",
    "# print(sample_ycap)\n",
    "\n",
    "# #check the sum of all probabilities - the sum of all probabilities should be 1\n",
    "\n",
    "# print(nd.sum(sample_ycap, axis=1))"
   ]
  },
  {
   "cell_type": "code",
   "execution_count": 15,
   "metadata": {},
   "outputs": [],
   "source": [
    "#define the model: SUM(W*x + b) and get ycap for each class\n",
    "\n",
    "def model(X):\n",
    "    y_linear = nd.dot(X, W) + b\n",
    "    ycap = softmax(y_linear)\n",
    "    return ycap"
   ]
  },
  {
   "cell_type": "code",
   "execution_count": 16,
   "metadata": {},
   "outputs": [],
   "source": [
    "#define cross entropy function to compute the loss. It measures the performance of a classification model whose output is the probability distribution from 0 and 1\n",
    "#the loss (Cross entropy increases with the decrease in the predicted probaility to the actual class (label))\n",
    "\n",
    "def cross_entropy_loss(ycap, y):\n",
    "    return - nd.sum(y * nd.log(ycap+1e-6))"
   ]
  },
  {
   "cell_type": "code",
   "execution_count": 17,
   "metadata": {},
   "outputs": [],
   "source": [
    "#define SGD function to obtain the optimize value of the gradient (the degree of change in parameter with the amount of change in other features) \n",
    "\n",
    "def SGD_optimizer(params, lr):\n",
    "    for param in params:\n",
    "        param[:] = param - lr * param.grad"
   ]
  },
  {
   "cell_type": "code",
   "execution_count": 18,
   "metadata": {},
   "outputs": [],
   "source": [
    "#check the accuracy of the model by calculating the correctly identified lables\n",
    "def evaluate_performance(img_pixel,img_label, model):\n",
    "    numerator = 0.\n",
    "    denominator = 0.\n",
    "    data = img_pixel.as_in_context(model_cont)\n",
    "    label = img_label.as_in_context(model_cont)\n",
    "    label_one_hot = nd.one_hot(label, 10)\n",
    "    output = model(data)\n",
    "    predictions = nd.argmax(output, axis=1)\n",
    "    numerator += nd.sum(predictions == label)\n",
    "    denominator += data.shape[0]\n",
    "    return (numerator / denominator).asscalar()"
   ]
  },
  {
   "cell_type": "code",
   "execution_count": 19,
   "metadata": {},
   "outputs": [
    {
     "data": {
      "text/plain": [
       "0.11845"
      ]
     },
     "execution_count": 19,
     "metadata": {},
     "output_type": "execute_result"
    }
   ],
   "source": [
    "evaluate_performance(mx_train_pixel,mx_train_label, model)\n",
    "\n"
   ]
  },
  {
   "cell_type": "code",
   "execution_count": 22,
   "metadata": {},
   "outputs": [
    {
     "name": "stdout",
     "output_type": "stream",
     "text": [
      "Epoch 0. Loss: 7.493392708333333, Train_acc 0.48126668\n",
      "Epoch 1. Loss: 7.084291145833333, Train_acc 0.49078333\n",
      "Epoch 2. Loss: 6.958383854166667, Train_acc 0.49773332\n",
      "Epoch 3. Loss: 6.8591484375, Train_acc 0.5029167\n",
      "Epoch 4. Loss: 6.787695833333333, Train_acc 0.48625\n",
      "Epoch 5. Loss: 6.979265625, Train_acc 0.40341666\n",
      "Epoch 6. Loss: 8.1173515625, Train_acc 0.43478334\n",
      "Epoch 7. Loss: 7.741213020833333, Train_acc 0.44086668\n",
      "Epoch 8. Loss: 7.659741666666666, Train_acc 0.42251667\n",
      "Epoch 9. Loss: 7.898696875, Train_acc 0.42826667\n",
      "Epoch 10. Loss: 7.8291348958333336, Train_acc 0.44096667\n",
      "Epoch 11. Loss: 7.633975, Train_acc 0.49138334\n",
      "Epoch 12. Loss: 6.9458390625, Train_acc 0.49355\n",
      "Epoch 13. Loss: 6.9366703125, Train_acc 0.52865\n",
      "Epoch 14. Loss: 6.439878645833334, Train_acc 0.53515\n",
      "Epoch 15. Loss: 6.360834375, Train_acc 0.52421665\n",
      "Epoch 16. Loss: 6.502603645833333, Train_acc 0.52533334\n",
      "Epoch 17. Loss: 6.495361458333333, Train_acc 0.5251167\n",
      "Epoch 18. Loss: 6.4893796875, Train_acc 0.53315\n",
      "Epoch 19. Loss: 6.395022916666667, Train_acc 0.53555\n"
     ]
    }
   ],
   "source": [
    "#run the model on train dataset\n",
    "\n",
    "epochs = 20\n",
    "learning_rate = .010\n",
    "\n",
    "for e in range(epochs):\n",
    "    cumulative_loss = 0\n",
    "    \n",
    "    data = mx_train_pixel.as_in_context(model_cont)\n",
    "    label = mx_train_label.as_in_context(model_cont)\n",
    "    label_one_hot = nd.one_hot(label, 10)\n",
    "    with autograd.record():\n",
    "        output = model(data)\n",
    "        loss = cross_entropy_loss(output, label_one_hot)\n",
    "    loss.backward()\n",
    "    SGD_optimizer(params, learning_rate)\n",
    "    cumulative_loss += nd.sum(loss).asscalar()\n",
    "\n",
    "\n",
    "    \n",
    "    train_accuracy = evaluate_performance(mx_train_pixel,mx_train_label, model)\n",
    "    print(\"Epoch %s. Loss: %s, Train_acc %s\" % (e, cumulative_loss/train_examples, train_accuracy))\n",
    "    #print(\"Train_acc %s\" % (train_accuracy))"
   ]
  },
  {
   "cell_type": "code",
   "execution_count": 23,
   "metadata": {},
   "outputs": [
    {
     "name": "stdout",
     "output_type": "stream",
     "text": [
      "Test accuracy 0.5378\n",
      "model predictions are: \n",
      "[4. 6. 1. ... 4. 8. 6.]\n",
      "<NDArray 10000 @cpu(0)>\n"
     ]
    },
    {
     "data": {
      "text/plain": [
       "(10000, 784)"
      ]
     },
     "execution_count": 23,
     "metadata": {},
     "output_type": "execute_result"
    }
   ],
   "source": [
    "# Define the function to do prediction\n",
    "def model_predict(model,data):\n",
    "    output = model(data)\n",
    "    return nd.argmax(output, axis=1)\n",
    "\n",
    "# use test data to predict the labels using trained model\n",
    "\n",
    "y_test=[]\n",
    "y_test.append(mx_test_label)\n",
    "data = mx_test_pixel.as_in_context(model_cont)\n",
    "#print(data.shape)\n",
    "pred=model_predict(model,data)\n",
    "test_accuracy = evaluate_performance(mx_test_pixel,mx_test_label, model)\n",
    "print(\"Test accuracy %s\" % (test_accuracy))\n",
    "print('model predictions are:', pred)\n",
    "\n",
    "data.shape"
   ]
  },
  {
   "cell_type": "code",
   "execution_count": 24,
   "metadata": {},
   "outputs": [
    {
     "data": {
      "text/plain": [
       "list"
      ]
     },
     "execution_count": 24,
     "metadata": {},
     "output_type": "execute_result"
    }
   ],
   "source": [
    "#convert NDArray to list type for computing the confusion matrix\n",
    "\n",
    "# #type(y_test)\n",
    "\n",
    "type(y_test[0])\n",
    "\n",
    "#test=y_test[0].tolist()\n",
    "\n",
    "test_numpy = (y_test[0].asnumpy())\n",
    "test_label=(test_numpy.tolist())\n",
    "\n",
    "type(test_label)\n",
    "#print(y_test)\n",
    "\n",
    "#print(test_label)\n",
    "type(test_label[0])\n",
    "\n",
    "type(pred)\n",
    "\n",
    "pred_numpy=pred.asnumpy()\n",
    "predictions=(pred_numpy.tolist())\n",
    "\n",
    "type(predictions)\n",
    "#print(predictions)"
   ]
  },
  {
   "cell_type": "code",
   "execution_count": 25,
   "metadata": {},
   "outputs": [
    {
     "name": "stdout",
     "output_type": "stream",
     "text": [
      "[[ 959    0    0    0    1    0    4    0   16    0]\n",
      " [   0 1060    0    0    1    1    5    0   68    0]\n",
      " [ 117   40    0    0   73    2  255    0  545    0]\n",
      " [  51    8    0    0   11  413   18    0  509    0]\n",
      " [   5    8    0    0  943    2    9    0   15    0]\n",
      " [  37    8    0    0   29  614   31    0  173    0]\n",
      " [  29    3    0    0   12    8  887    0   19    0]\n",
      " [ 102   49    0    0  525    6    0    0  346    0]\n",
      " [  17    2    0    0   16    9   15    0  915    0]\n",
      " [  28   11    0    0  810   19    2    0  139    0]]\n"
     ]
    }
   ],
   "source": [
    "import matplotlib.pyplot as plt\n",
    "import seaborn as sns\n",
    "from sklearn import metrics\n",
    "\n",
    "# cm = metrics.confusion_matrix(test_label, predictions)\n",
    "# print(cm)\n",
    "# cm.shape\n",
    "\n",
    "from sklearn.metrics import confusion_matrix\n",
    "\n",
    "cm = confusion_matrix(y_true = test_label, y_pred = predictions)\n",
    "print(cm)"
   ]
  },
  {
   "cell_type": "code",
   "execution_count": 26,
   "metadata": {},
   "outputs": [
    {
     "data": {
      "image/png": "[encoded data removed]",
      "text/plain": [
       "<Figure size 648x648 with 2 Axes>"
      ]
     },
     "metadata": {
      "needs_background": "light"
     },
     "output_type": "display_data"
    }
   ],
   "source": [
    "plt.figure(figsize=(9,9))\n",
    "sns.heatmap(cm, annot=True, fmt=\".0f\", linewidths=.5, square = True, cmap = 'Blues_r');\n",
    "plt.ylabel('Actual label');\n",
    "plt.xlabel('Predicted label');\n",
    "all_sample_title = 'Accuracy Score: {0}'.format(test_accuracy)\n",
    "plt.title(all_sample_title, size = 15);"
   ]
  }
 ],
 "metadata": {
  "kernelspec": {
   "display_name": "Python 3",
   "language": "python",
   "name": "python3"
  },
  "language_info": {
   "codemirror_mode": {
    "name": "ipython",
    "version": 3
   },
   "file_extension": ".py",
   "mimetype": "text/x-python",
   "name": "python",
   "nbconvert_exporter": "python",
   "pygments_lexer": "ipython3",
   "version": "3.7.3"
  }
 },
 "nbformat": 4,
 "nbformat_minor": 2
}
